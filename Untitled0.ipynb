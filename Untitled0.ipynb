{
  "cells": [
    {
      "cell_type": "markdown",
      "metadata": {
        "id": "view-in-github",
        "colab_type": "text"
      },
      "source": [
        "<a href=\"https://colab.research.google.com/github/shraddha-agrawal123/Machine-learning/blob/main/Untitled0.ipynb\" target=\"_parent\"><img src=\"https://colab.research.google.com/assets/colab-badge.svg\" alt=\"Open In Colab\"/></a>"
      ]
    },
    {
      "cell_type": "code",
      "execution_count": null,
      "metadata": {
        "colab": {
          "base_uri": "https://localhost:8080/"
        },
        "id": "JoJIP9iJ1Je7",
        "outputId": "82a6ce93-7521-46a7-e746-4e618089ee3f"
      },
      "outputs": [
        {
          "name": "stdout",
          "output_type": "stream",
          "text": [
            "hello first year..\n"
          ]
        }
      ],
      "source": [
        "print(\"hello first year..\")"
      ]
    },
    {
      "cell_type": "code",
      "execution_count": null,
      "metadata": {
        "colab": {
          "background_save": true,
          "base_uri": "https://localhost:8080/"
        },
        "id": "Ae_W697C5sRM",
        "outputId": "0dbab06c-e8ff-4179-f831-27a4922ce226"
      },
      "outputs": [
        {
          "name": "stdout",
          "output_type": "stream",
          "text": [
            "[[1 2 3 4 5]\n",
            " [4 5 6 7 8]]\n",
            "<class 'numpy.ndarray'>\n",
            "2\n",
            "3\n"
          ]
        }
      ],
      "source": [
        "import numpy as np\n",
        "ar=np.array([[1,2,3,4,5],[4,5,6,7,8]])\n",
        "br=np.array([[[1,2,3],[4,5,6]],[[1,2,3],[4,5,6]]])\n",
        "print(ar)\n",
        "print(type(ar))\n",
        "print(ar.ndim)\n",
        "print(br.ndim)"
      ]
    },
    {
      "cell_type": "code",
      "execution_count": 38,
      "metadata": {
        "id": "WX-Qrofz8nmz",
        "colab": {
          "base_uri": "https://localhost:8080/"
        },
        "outputId": "a980bcea-a6e9-4679-8468-e2c71141cda5"
      },
      "outputs": [
        {
          "output_type": "stream",
          "name": "stdout",
          "text": [
            "4\n"
          ]
        }
      ],
      "source": [
        "import numpy as np\n",
        "arr=np.array([6,7,8,9])\n",
        "x=np.searchsorted(arr,10)\n",
        "print(x)"
      ]
    },
    {
      "cell_type": "code",
      "source": [
        "import numpy as np\n",
        "arr=np.array([6,7,8,9])\n",
        "x=np.searchsorted(arr,7,side='right')\n",
        "print(x)"
      ],
      "metadata": {
        "colab": {
          "base_uri": "https://localhost:8080/"
        },
        "id": "pOssPYkXj6UT",
        "outputId": "3e14619e-5f5b-4dd8-daff-92c52c87f3bf"
      },
      "execution_count": 36,
      "outputs": [
        {
          "output_type": "stream",
          "name": "stdout",
          "text": [
            "2\n"
          ]
        }
      ]
    },
    {
      "cell_type": "code",
      "source": [
        "import numpy as np\n",
        "arr=np.array([1,3,5,7])\n",
        "x=np.searchsorted(arr,[2,4,6])\n",
        "print(x)"
      ],
      "metadata": {
        "colab": {
          "base_uri": "https://localhost:8080/"
        },
        "id": "4qFJ87ONkSff",
        "outputId": "9f950a5f-ec8c-45e7-aeb2-0406ded9a479"
      },
      "execution_count": 37,
      "outputs": [
        {
          "output_type": "stream",
          "name": "stdout",
          "text": [
            "[1 2 3]\n"
          ]
        }
      ]
    },
    {
      "cell_type": "code",
      "source": [
        "import numpy as np\n",
        "arr1= np.array([1,2,3])\n",
        "arr2=np.array([4,5,6])\n",
        "arr=np.concatenate((arr1,arr2))\n",
        "print(arr)"
      ],
      "metadata": {
        "colab": {
          "base_uri": "https://localhost:8080/"
        },
        "id": "JyPsqU8Gknn3",
        "outputId": "e672d219-4260-4261-8e6e-8cf1d83a6c01"
      },
      "execution_count": 40,
      "outputs": [
        {
          "output_type": "stream",
          "name": "stdout",
          "text": [
            "[1 2 3 4 5 6]\n"
          ]
        }
      ]
    },
    {
      "cell_type": "code",
      "source": [
        "import numpy as np\n",
        "arr1=np.array([[1,2],[3,4]])\n",
        "arr2=np.array([[5,6],[7,8]])\n",
        "arr=np.concatenate((arr1,arr2),axis=1)\n",
        "brr=np.concatenate((arr1,arr2),axis=0)\n",
        "print(arr)\n",
        "print(brr)"
      ],
      "metadata": {
        "colab": {
          "base_uri": "https://localhost:8080/"
        },
        "id": "vI5wtvl1nw0X",
        "outputId": "f9efff89-371b-44c7-f920-243c675087b6"
      },
      "execution_count": 43,
      "outputs": [
        {
          "output_type": "stream",
          "name": "stdout",
          "text": [
            "[[1 2 5 6]\n",
            " [3 4 7 8]]\n",
            "[[1 2]\n",
            " [3 4]\n",
            " [5 6]\n",
            " [7 8]]\n"
          ]
        }
      ]
    },
    {
      "cell_type": "code",
      "source": [
        "import numpy as np\n",
        "arr1=np.array([1,2,3])\n",
        "arr2=np.array([4,5,6])\n",
        "arr=np.vstack((arr1,arr2))\n",
        "print(arr)"
      ],
      "metadata": {
        "colab": {
          "base_uri": "https://localhost:8080/"
        },
        "id": "PuETI0VfoyS5",
        "outputId": "8b890e9d-2e5b-4ca7-8a77-363bbd1c02cf"
      },
      "execution_count": 44,
      "outputs": [
        {
          "output_type": "stream",
          "name": "stdout",
          "text": [
            "[[1 2 3]\n",
            " [4 5 6]]\n"
          ]
        }
      ]
    },
    {
      "cell_type": "code",
      "source": [
        "import numpy as np\n",
        "arr=np.array([1,2,3,4,5,6])\n",
        "newarr=np.array_split(arr,3)\n",
        "print(newarr)"
      ],
      "metadata": {
        "colab": {
          "base_uri": "https://localhost:8080/"
        },
        "id": "mkweU5Cupezx",
        "outputId": "3a10e37a-d2f2-4b3c-b37c-2d89f558ba58"
      },
      "execution_count": 46,
      "outputs": [
        {
          "output_type": "stream",
          "name": "stdout",
          "text": [
            "[array([1, 2]), array([3, 4]), array([5, 6])]\n"
          ]
        }
      ]
    },
    {
      "cell_type": "code",
      "source": [
        "import numpy as np\n",
        "arr=np.array([1,2,3,4,5,6])\n",
        "newarr=np.array_split(arr,4)\n",
        "print(newarr)\n",
        "#6/4=1.5==[2]\n",
        "#4/3=1.33[2]\n",
        "#2/2=1\n",
        "#1/1=1"
      ],
      "metadata": {
        "colab": {
          "base_uri": "https://localhost:8080/"
        },
        "id": "xIonvOE1qeui",
        "outputId": "e92dc07b-dd1e-459b-dde0-f8db0adce361"
      },
      "execution_count": 49,
      "outputs": [
        {
          "output_type": "stream",
          "name": "stdout",
          "text": [
            "[array([1, 2]), array([3, 4]), array([5]), array([6])]\n"
          ]
        }
      ]
    },
    {
      "cell_type": "code",
      "source": [
        "import numpy as np\n",
        "arr=np.array([1,2,3,4,5])\n",
        "x=arr.copy()\n",
        "arr[0]=42\n",
        "arr[2]=21\n",
        "print(arr)\n",
        "print(x)"
      ],
      "metadata": {
        "colab": {
          "base_uri": "https://localhost:8080/"
        },
        "id": "_2XXUlo5rAP-",
        "outputId": "811a7f6a-4adb-45b2-8842-868e118a0cd2"
      },
      "execution_count": 51,
      "outputs": [
        {
          "output_type": "stream",
          "name": "stdout",
          "text": [
            "[42  2 21  4  5]\n",
            "[1 2 3 4 5]\n"
          ]
        }
      ]
    },
    {
      "cell_type": "code",
      "source": [
        "import numpy as np\n",
        "arr=np.array([1,2,3,4,5])\n",
        "x=arr.view()\n",
        "arr[0]=42\n",
        "print(arr)\n",
        "print(x)"
      ],
      "metadata": {
        "colab": {
          "base_uri": "https://localhost:8080/"
        },
        "id": "waUHW4phrnr1",
        "outputId": "835ca8ee-bf85-4f1d-c250-c9e7ba12a1ae"
      },
      "execution_count": 53,
      "outputs": [
        {
          "output_type": "stream",
          "name": "stdout",
          "text": [
            "[42  2  3  4  5]\n",
            "[42  2  3  4  5]\n"
          ]
        }
      ]
    },
    {
      "cell_type": "code",
      "source": [],
      "metadata": {
        "id": "p-PEDyicsjom"
      },
      "execution_count": null,
      "outputs": []
    }
  ],
  "metadata": {
    "colab": {
      "provenance": [],
      "authorship_tag": "ABX9TyNzdQiJz4k3k9KPIJgerzrB",
      "include_colab_link": true
    },
    "kernelspec": {
      "display_name": "Python 3",
      "name": "python3"
    },
    "language_info": {
      "name": "python"
    }
  },
  "nbformat": 4,
  "nbformat_minor": 0
}